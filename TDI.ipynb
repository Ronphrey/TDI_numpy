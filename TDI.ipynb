{
 "cells": [
  {
   "cell_type": "code",
   "execution_count": 2,
   "id": "9bc0c996",
   "metadata": {},
   "outputs": [
    {
     "data": {
      "text/plain": [
       "array([ 1,  2,  3,  4,  5,  6,  7,  8,  9, 10])"
      ]
     },
     "execution_count": 2,
     "metadata": {},
     "output_type": "execute_result"
    }
   ],
   "source": [
    "import numpy as np\n",
    "# create a 1D array of numbers from 1 to 10\n",
    "array = np.arange(1,11)\n",
    "array"
   ]
  },
  {
   "cell_type": "code",
   "execution_count": 3,
   "id": "d276969c",
   "metadata": {},
   "outputs": [
    {
     "data": {
      "text/plain": [
       "8"
      ]
     },
     "execution_count": 3,
     "metadata": {},
     "output_type": "execute_result"
    }
   ],
   "source": [
    "# reshape the array into  2x5 matrix\n",
    "matrix=array.reshape(2,5)\n",
    "matrix\n",
    "\n",
    "# find the element located in the second row third column\n",
    "element=matrix[1,2]\n",
    "element"
   ]
  },
  {
   "cell_type": "code",
   "execution_count": 4,
   "id": "7917898d",
   "metadata": {},
   "outputs": [],
   "source": [
    "# Basic array Operations \n",
    "array_1 = np.array([10,20,30])\n",
    "array_2 = np.array([1,2,3])\n",
    "\n",
    "# perform element-wise addition,subtraction and multiplication\n",
    "addition = array_1 + array_2\n",
    "subtraction = array_1 - array_2\n",
    "multiplication = array_1 * array_2\n",
    "\n",
    "# calculate the sum,mean and standard deviation of the resulting array after multiplication\n",
    "\n",
    "total_sum = np.sum(multiplication)\n",
    "mean = np.mean(multiplication)\n",
    "standard_deviation = np.mean(multiplication)\n",
    "\n"
   ]
  },
  {
   "cell_type": "markdown",
   "id": "5a828baa",
   "metadata": {},
   "source": [
    "# Broadcasting and Reshaping\n"
   ]
  },
  {
   "cell_type": "code",
   "execution_count": 5,
   "id": "a838bb4c",
   "metadata": {},
   "outputs": [],
   "source": [
    "#  create a 1D array of numbers from 0 to 15.Reshape it into a 3 x 5 matrix\n",
    "matrix_1 = np.arange(0,15).reshape(3,5)\n",
    "# Add 10 to each element in the matrix using broadcast\n",
    "matrix_1_added = matrix_1 + 10\n",
    "# Create another 3 x 5 matrix and multiply the two matrices using broadcasting\n",
    "new_matrix = np.arange(0,15).reshape(3,5) * matrix_1_added\n"
   ]
  },
  {
   "cell_type": "markdown",
   "id": "fce265c0",
   "metadata": {},
   "source": [
    "# Logical  operation and boolean indexing"
   ]
  },
  {
   "cell_type": "code",
   "execution_count": 6,
   "id": "6d48b76b",
   "metadata": {},
   "outputs": [
    {
     "data": {
      "text/plain": [
       "array(['less', 'less', 'less', '0', '0', '0', '0'], dtype='<U11')"
      ]
     },
     "execution_count": 6,
     "metadata": {},
     "output_type": "execute_result"
    }
   ],
   "source": [
    "# create an array with values:[15,22,33,41,50,65,72]\n",
    "matrix_2 = np.array([15,22,33,41,50,65,72])\n",
    "# use boolean indexing ti filter out values that are greater than 40\n",
    "filtered_matrix_2 = matrix_2 > 40\n",
    "matrix_2[filtered_matrix_2]\n",
    "# Replace all the values greater than 40 with values 0 in the original array\n",
    "np.where(matrix_2 > 40,0,'less')"
   ]
  },
  {
   "cell_type": "code",
   "execution_count": null,
   "id": "6a5fb990",
   "metadata": {},
   "outputs": [],
   "source": []
  },
  {
   "cell_type": "markdown",
   "id": "5595ac3a",
   "metadata": {},
   "source": [
    "# Matrix operations"
   ]
  },
  {
   "cell_type": "code",
   "execution_count": 11,
   "id": "a152322a",
   "metadata": {},
   "outputs": [],
   "source": [
    "# create a 3x3 matrix\n",
    "\n",
    "matrix_3 = np.array([[1,2,3],[6,5,4],[7,8,9]])\n",
    "\n",
    "# find the transpose of the matrix\n",
    "transpose = np.transpose(matrix_3)\n",
    "\n",
    "# perform matrix operation with another 3x3 matrix of your choice using np.dot\n",
    "\n",
    "matrix_4 = np.array([[9,8,7],[4,5,7],[8,3,5]])\n",
    "multiplied_matrix=np.dot(matrix_3,matrix_4)\n",
    "\n",
    "# calculate the inverse of the resulting matrix\n",
    "inverse = np.linalg.inv(multiplied_matrix)"
   ]
  },
  {
   "cell_type": "code",
   "execution_count": null,
   "id": "cc56c79f",
   "metadata": {},
   "outputs": [],
   "source": []
  },
  {
   "cell_type": "markdown",
   "id": "4691ee19",
   "metadata": {},
   "source": [
    "# statistical analysis\n"
   ]
  },
  {
   "cell_type": "code",
   "execution_count": 13,
   "id": "e2fd26a6",
   "metadata": {},
   "outputs": [],
   "source": [
    "array_x = [1,3,5,7,9]\n",
    "array_y = [2,4,6,8,10]\n",
    "\n",
    "# compute the correlation coefficient\n",
    "correlation = np.corrcoef(array_x,array_y)\n"
   ]
  },
  {
   "cell_type": "code",
   "execution_count": 16,
   "id": "9f33b3d1",
   "metadata": {},
   "outputs": [],
   "source": [
    "# Generate 1000 random numbers from a normal distribution and find the 95th percentile\n",
    "\n",
    "random_number=np.random.normal(size=1000)\n",
    "\n",
    "# Find the 95th percentile\n",
    "percentile_95 = np.percentile(random_number,95)"
   ]
  },
  {
   "cell_type": "markdown",
   "id": "d03986e9",
   "metadata": {},
   "source": [
    "# solving linear equations"
   ]
  },
  {
   "cell_type": "code",
   "execution_count": 19,
   "id": "012b1827",
   "metadata": {},
   "outputs": [],
   "source": [
    "# solve 2x + y = 10\n",
    "#       x - y = 2\n",
    "    \n",
    "A = np.array([[2,1],[1,-1]])\n",
    "B = np.array([10,2])\n",
    "\n",
    "solution = np.linalg.solve(A,B)"
   ]
  },
  {
   "cell_type": "markdown",
   "id": "5ac0e718",
   "metadata": {},
   "source": [
    "#  Fancy indexing and conditional selection"
   ]
  },
  {
   "cell_type": "code",
   "execution_count": 23,
   "id": "57115930",
   "metadata": {},
   "outputs": [],
   "source": [
    "matrix_5 = np.array([25,45,15,75,35,55,85])\n",
    "# use fancy indexing to rearrange the elements in descending order\n",
    "sorted_arrays = matrix_5[::-1]\n",
    "\n",
    "# use np.where() to replace all values greater than 50 with 100 and values less than or equal to 50 with 0\n",
    "greater_than_50 = np.where(matrix_5 > 50,100,0)"
   ]
  },
  {
   "cell_type": "markdown",
   "id": "a7c39485",
   "metadata": {},
   "source": [
    "# performance comparison between numpy and python list"
   ]
  },
  {
   "cell_type": "code",
   "execution_count": 33,
   "id": "44fb6b20",
   "metadata": {},
   "outputs": [
    {
     "name": "stderr",
     "output_type": "stream",
     "text": [
      "C:\\Users\\o9oo\\AppData\\Local\\Temp\\ipykernel_9976\\1958177440.py:14: RuntimeWarning: overflow encountered in scalar add\n",
      "  return sum(arr)\n"
     ]
    },
    {
     "name": "stdout",
     "output_type": "stream",
     "text": [
      "Time taken to sum python list : 0.3663886000003913 seconds\n",
      "Time taken to sum python list : 0.8652635999997074 seconds\n"
     ]
    }
   ],
   "source": [
    "# using timeit module\n",
    "import timeit\n",
    "\n",
    "# create a list and numpy array with 1 millio elements\n",
    "p_list = list(range(1,1000001))\n",
    "np_array = np.arange(1,1000001)\n",
    "\n",
    "# define a function to sum the elements in a python list\n",
    "def sum_python(lst):\n",
    "    return sum(lst)\n",
    "\n",
    "\n",
    "def sum_array(arr):\n",
    "    return sum(arr)\n",
    "\n",
    "# use timeit to compare the performance\n",
    "time_python = timeit.timeit(lambda:sum_python(p_list),number = 10)\n",
    "time_array = timeit.timeit(lambda:sum_array(np_array),number = 10)\n",
    "\n",
    "print(f'Time taken to sum python list : {time_python} seconds')\n",
    "print(f'Time taken to sum python list : {time_array} seconds')"
   ]
  },
  {
   "cell_type": "code",
   "execution_count": null,
   "id": "705d69f0",
   "metadata": {},
   "outputs": [],
   "source": []
  }
 ],
 "metadata": {
  "kernelspec": {
   "display_name": "Python 3 (ipykernel)",
   "language": "python",
   "name": "python3"
  },
  "language_info": {
   "codemirror_mode": {
    "name": "ipython",
    "version": 3
   },
   "file_extension": ".py",
   "mimetype": "text/x-python",
   "name": "python",
   "nbconvert_exporter": "python",
   "pygments_lexer": "ipython3",
   "version": "3.11.5"
  }
 },
 "nbformat": 4,
 "nbformat_minor": 5
}
